{
 "cells": [
  {
   "cell_type": "markdown",
   "id": "b692843a-c477-4500-ae72-7af82d3e1085",
   "metadata": {
    "tags": []
   },
   "source": [
    "### Linear (least squares) regression:\n",
    " **Problem:** We are given data $(\\mathbf{x}_i, y_i)_{i=1}^n$ where $\\mathbf{x}_i\\in \\mathbb{R}^d$ and $y_i\\in \\mathbb{R}$ and we want to find an affine linear function $$f(\\mathbf{x}) = \\beta_0 + \\sum_{j=1}^d \\beta_j x_j$$ such that\n",
    " $$\n",
    " \\sum_{i=1}^n \\left( y_i - f(\\mathbf{x}_i) \\right)^2 \n",
    " $$ is minimized."
   ]
  },
  {
   "cell_type": "markdown",
   "id": "7330b74c-4399-4073-bab5-160490982d91",
   "metadata": {},
   "source": [
    "We saw in class that this is equivalent to\n",
    "$$\n",
    "\\arg \\min_{\\boldsymbol{\\beta}\\in \\mathbb{R}^{d+1}} \\left\\| \\mathbf{y} - A \\boldsymbol{\\beta}\\right\\|^2.\n",
    "$$\n",
    "Here $A \\in \\mathbb{R}^{n\\times (d+1)}$ is the matrix\n",
    "$$\n",
    "A = \\begin{bmatrix}\n",
    "1 & \\mathbf{x}_1^T\\\\\n",
    "1 & \\mathbf{x}_2^T\\\\\n",
    "\\vdots& \\vdots\\\\\n",
    "1& \\mathbf{x}_n^T\n",
    "\\end{bmatrix}.\n",
    "$$"
   ]
  },
  {
   "cell_type": "markdown",
   "id": "b55230b4-0b46-486a-bf3d-a998dccfa235",
   "metadata": {},
   "source": [
    "We also know that if $U = \\text{col}(A)$ is the column space of $A$ (i.e. the span of the columns of $A$), then $U$ is a linear subspace of $\\mathbb{R}^n$ and \n",
    "$$\n",
    "\\arg\\min_{\\mathbf{p}\\in U} \\|\\mathbf{y} - \\mathbf{p}\\|^2 = \\mathbf{p}^*:= \\text{proj}_U(\\mathbf{y}).\n",
    "$$\n",
    "\n",
    "Also, the vector $\\mathbf{p}^*$ satisfies the following orthogonality property:\n",
    "$$\n",
    "\\langle \\mathbf{y} - \\mathbf{p}^*, \\mathbf{u}\\rangle = 0,\\qquad\\forall \\mathbf{u}\\in U.\n",
    "$$\n",
    "In particular, that implies $A^T \\mathbf{p}^* = 0$."
   ]
  },
  {
   "cell_type": "code",
   "execution_count": null,
   "id": "63319d8b-b23c-4955-ad74-74a8e589a0e2",
   "metadata": {},
   "outputs": [],
   "source": []
  }
 ],
 "metadata": {
  "kernelspec": {
   "display_name": "Python 3 (ipykernel)",
   "language": "python",
   "name": "python3"
  },
  "language_info": {
   "codemirror_mode": {
    "name": "ipython",
    "version": 3
   },
   "file_extension": ".py",
   "mimetype": "text/x-python",
   "name": "python",
   "nbconvert_exporter": "python",
   "pygments_lexer": "ipython3",
   "version": "3.10.4"
  }
 },
 "nbformat": 4,
 "nbformat_minor": 5
}
