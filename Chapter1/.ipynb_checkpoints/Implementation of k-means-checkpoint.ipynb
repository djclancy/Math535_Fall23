{
 "cells": [
  {
   "cell_type": "code",
   "execution_count": 1,
   "id": "5b6175cf",
   "metadata": {},
   "outputs": [],
   "source": [
    "### Implementation of k-means algorithm\n",
    "import numpy as np\n",
    "import matplotlib.pyplot as plt\n",
    "from numpy import linalg as LA\n",
    "from numpy.random import default_rng\n",
    "rng = default_rng(535)"
   ]
  },
  {
   "cell_type": "code",
   "execution_count": 2,
   "id": "39010e77",
   "metadata": {},
   "outputs": [],
   "source": [
    "### This optimizes over the choices of the vectors mu_i\n",
    "def opt_reps(X, k, assign):\n",
    "    ### X is the data set:\n",
    "    (n, d) = X.shape\n",
    "    reps = np.zeros((k, d))\n",
    "    for i in range(k):\n",
    "        in_i = [j for j in range(n) if assign[j] == i]\n",
    "        reps[i,:] = np.sum(X[in_i,:],axis=0) / len(in_i)\n",
    "    return reps"
   ]
  },
  {
   "cell_type": "code",
   "execution_count": 3,
   "id": "592770a0",
   "metadata": {},
   "outputs": [],
   "source": [
    "### This optimizes over the choices of the clusters C_j\n",
    "def opt_clust(X, k, reps):\n",
    "    (n, d) = X.shape\n",
    "    dist = np.zeros(n)\n",
    "    assign = np.zeros(n, dtype=int)\n",
    "    for j in range(n):\n",
    "        dist_to_i = np.array([LA.norm(X[j,:] - reps[i,:]) for i in range(k)])\n",
    "        assign[j] = np.argmin(dist_to_i)\n",
    "        dist[j] = dist_to_i[assign[j]]\n",
    "    G = np.sum(dist ** 2)\n",
    "    print(G)\n",
    "    return assign\n"
   ]
  },
  {
   "cell_type": "code",
   "execution_count": 4,
   "id": "5bb6ef0c",
   "metadata": {},
   "outputs": [
    {
     "data": {
      "text/plain": [
       "(8, 2)"
      ]
     },
     "execution_count": 4,
     "metadata": {},
     "output_type": "execute_result"
    }
   ],
   "source": [
    "X = np.array([[1., 0.],[-2., 0.],[-2.,1.],[1.,-3.],[-10.,10.],[2.,-2.],[-3.,1.],[3.,-1.]])\n",
    "X.shape\n"
   ]
  },
  {
   "cell_type": "code",
   "execution_count": 5,
   "id": "bd9caf3a",
   "metadata": {},
   "outputs": [],
   "source": [
    "def mmids_kmeans(X, k, maxiter=10):\n",
    "    (n, d) = X.shape\n",
    "    assign = rng.integers(0,k,n)\n",
    "    reps = np.zeros((k, d), dtype=int)\n",
    "    for iter in range(maxiter):\n",
    "        # Step 1: Optimal representatives for fixed clusters\n",
    "        reps = opt_reps(X, k, assign)\n",
    "        # Step 2: Optimal clusters for fixed representatives\n",
    "        assign = opt_clust(X, k, reps)\n",
    "    return assign\n"
   ]
  },
  {
   "cell_type": "code",
   "execution_count": 6,
   "id": "54262caf",
   "metadata": {},
   "outputs": [
    {
     "name": "stdout",
     "output_type": "stream",
     "text": [
      "162.7\n",
      "74.8611111111111\n",
      "9.083333333333334\n",
      "9.083333333333334\n",
      "9.083333333333334\n",
      "9.083333333333334\n",
      "9.083333333333334\n",
      "9.083333333333334\n",
      "9.083333333333334\n",
      "9.083333333333334\n"
     ]
    },
    {
     "data": {
      "image/png": "[encoded data removed]",
      "text/plain": [
       "<Figure size 432x288 with 1 Axes>"
      ]
     },
     "metadata": {
      "needs_background": "light"
     },
     "output_type": "display_data"
    }
   ],
   "source": [
    "X = np.array([[1., 0.],[-2., 0.],[-2.,1.],[1.,-3.],[-10.,10.],[2.,-2.],[-3.,1.],[3.,-1.]])\n",
    "assign = mmids_kmeans(X,3)\n",
    "plt.scatter(X[:,0],X[:,1], c = assign)\n",
    "plt.show()"
   ]
  },
  {
   "cell_type": "code",
   "execution_count": 7,
   "id": "791c9738",
   "metadata": {},
   "outputs": [
    {
     "data": {
      "text/plain": [
       "array([[ -2.33333333,   0.66666667],\n",
       "       [  1.75      ,  -1.5       ],\n",
       "       [-10.        ,  10.        ]])"
      ]
     },
     "execution_count": 7,
     "metadata": {},
     "output_type": "execute_result"
    }
   ],
   "source": [
    "opt_reps(X, 3, assign)\n"
   ]
  },
  {
   "cell_type": "code",
   "execution_count": 8,
   "id": "5b4efee7",
   "metadata": {},
   "outputs": [],
   "source": [
    "import pandas as pd"
   ]
  },
  {
   "cell_type": "code",
   "execution_count": 9,
   "id": "5828db7b",
   "metadata": {},
   "outputs": [
    {
     "data": {
      "image/png": "[encoded data removed]",
      "text/plain": [
       "<Figure size 432x288 with 1 Axes>"
      ]
     },
     "metadata": {
      "needs_background": "light"
     },
     "output_type": "display_data"
    }
   ],
   "source": [
    "df = pd.read_csv(\"./datasets/iris-measurements.csv\")\n",
    "X = df[['PetalLengthCm', 'PetalWidthCm', \n",
    "        'SepalLengthCm', 'SepalWidthCm']].to_numpy()\n",
    "plt.scatter(X[:,0], X[:,1])\n",
    "plt.xlabel('PetalLength')\n",
    "plt.ylabel('PetalWidth')\n",
    "plt.show()\n"
   ]
  },
  {
   "cell_type": "code",
   "execution_count": 10,
   "id": "2bf14987",
   "metadata": {},
   "outputs": [
    {
     "name": "stdout",
     "output_type": "stream",
     "text": [
      "569.0432502813364\n",
      "108.45132116347064\n",
      "88.92035772737768\n",
      "85.04157943238867\n",
      "84.10217888865151\n",
      "83.13638186876976\n",
      "81.83900206772623\n",
      "80.89577600000003\n",
      "79.96297983461305\n",
      "79.43376414532673\n"
     ]
    },
    {
     "data": {
      "image/png": "[encoded data removed]",
      "text/plain": [
       "<Figure size 432x288 with 1 Axes>"
      ]
     },
     "metadata": {
      "needs_background": "light"
     },
     "output_type": "display_data"
    }
   ],
   "source": [
    "assign = mmids_kmeans(X, 3)\n",
    "plt.scatter(X[:,0], X[:,1], c=assign)\n",
    "plt.show()\n"
   ]
  },
  {
   "cell_type": "code",
   "execution_count": 11,
   "id": "6d6ab016",
   "metadata": {},
   "outputs": [
    {
     "data": {
      "text/html": [
       "<div>\n",
       "<style scoped>\n",
       "    .dataframe tbody tr th:only-of-type {\n",
       "        vertical-align: middle;\n",
       "    }\n",
       "\n",
       "    .dataframe tbody tr th {\n",
       "        vertical-align: top;\n",
       "    }\n",
       "\n",
       "    .dataframe thead th {\n",
       "        text-align: right;\n",
       "    }\n",
       "</style>\n",
       "<table border=\"1\" class=\"dataframe\">\n",
       "  <thead>\n",
       "    <tr style=\"text-align: right;\">\n",
       "      <th></th>\n",
       "      <th>Id</th>\n",
       "      <th>Species</th>\n",
       "    </tr>\n",
       "  </thead>\n",
       "  <tbody>\n",
       "    <tr>\n",
       "      <th>0</th>\n",
       "      <td>1</td>\n",
       "      <td>Iris-setosa</td>\n",
       "    </tr>\n",
       "    <tr>\n",
       "      <th>1</th>\n",
       "      <td>2</td>\n",
       "      <td>Iris-setosa</td>\n",
       "    </tr>\n",
       "    <tr>\n",
       "      <th>2</th>\n",
       "      <td>3</td>\n",
       "      <td>Iris-setosa</td>\n",
       "    </tr>\n",
       "    <tr>\n",
       "      <th>3</th>\n",
       "      <td>4</td>\n",
       "      <td>Iris-setosa</td>\n",
       "    </tr>\n",
       "    <tr>\n",
       "      <th>4</th>\n",
       "      <td>5</td>\n",
       "      <td>Iris-setosa</td>\n",
       "    </tr>\n",
       "  </tbody>\n",
       "</table>\n",
       "</div>"
      ],
      "text/plain": [
       "   Id      Species\n",
       "0   1  Iris-setosa\n",
       "1   2  Iris-setosa\n",
       "2   3  Iris-setosa\n",
       "3   4  Iris-setosa\n",
       "4   5  Iris-setosa"
      ]
     },
     "execution_count": 11,
     "metadata": {},
     "output_type": "execute_result"
    }
   ],
   "source": [
    "df_truth = pd.read_csv(\"./datasets/iris-species.csv\")\n",
    "df_truth.head()"
   ]
  },
  {
   "cell_type": "code",
   "execution_count": 12,
   "id": "d5e94121",
   "metadata": {},
   "outputs": [
    {
     "data": {
      "text/plain": [
       "array(['Iris-setosa', 'Iris-versicolor', 'Iris-virginica'], dtype=object)"
      ]
     },
     "execution_count": 12,
     "metadata": {},
     "output_type": "execute_result"
    }
   ],
   "source": [
    "species = df_truth['Species']\n",
    "species.unique()"
   ]
  },
  {
   "cell_type": "code",
   "execution_count": 13,
   "id": "2b3f4345",
   "metadata": {},
   "outputs": [
    {
     "data": {
      "image/png": "[encoded data removed]",
      "text/plain": [
       "<Figure size 432x288 with 2 Axes>"
      ]
     },
     "metadata": {
      "needs_background": "light"
     },
     "output_type": "display_data"
    }
   ],
   "source": [
    "species2color = {'Iris-setosa': 'b', 'Iris-versicolor': 'g', 'Iris-virginica': 'r'}\n",
    "truth = species.replace(species2color)\n",
    "f, (ax1, ax2) = plt.subplots(1, 2, sharex=True, sharey=True)\n",
    "ax1.scatter(X[:,0], X[:,1], c=truth)\n",
    "ax1.set_title('truth')\n",
    "ax2.scatter(X[:,0], X[:,1], c=assign)\n",
    "ax2.set_title('kmeans')\n",
    "plt.show()\n"
   ]
  },
  {
   "cell_type": "markdown",
   "id": "fcb287b1",
   "metadata": {},
   "source": [
    "### What happens in high-dimensions?\n",
    "Below ```one_cluster``` generates a $n$ inependent Gaussian random vectors $\\mathbf{Z}_i\\in \\mathbb{R}^d$ for $i=1,\\dotsm,d$ where\n",
    "$$\n",
    "\\mathbb{E}[Z_{il}] = \\begin{cases} w &: i=1\\\\\n",
    "0&: \\text{else}\n",
    "\\end{cases}\n",
    "$$\n",
    "Using vectors we can say\n",
    "$$\n",
    "\\mathbb{E}[\\mathbf{Z}_i] = w\\mathbf{e}_1\n",
    "$$\n",
    "where $\\mathbf{e}_j$ is the $j^\\text{th}$ standard basis vector.\n",
    "\n",
    "```two_cluster``` generates two datasets using ```one_cluster```, one with mean $w\\mathbf{e}_1$ and the other with mean $-w\\mathbf{e}_1$. "
   ]
  },
  {
   "cell_type": "code",
   "execution_count": 14,
   "id": "07554844",
   "metadata": {},
   "outputs": [],
   "source": [
    "def one_cluster(d, n, w):\n",
    "    X = np.stack([np.concatenate(([w], np.zeros(d-1))) + rng.normal(0,1,d) for _ in range(n)])\n",
    "    return X\n",
    "\n",
    "def two_clusters(d, n, w):\n",
    "    X1 = one_cluster(d, n, -w)\n",
    "    X2 = one_cluster(d, n, w)\n",
    "    return X1, X2"
   ]
  },
  {
   "cell_type": "markdown",
   "id": "355532e4",
   "metadata": {},
   "source": [
    "Below are $n=100$ samples in $\\mathbb{R}^2$ with $w = 3$."
   ]
  },
  {
   "cell_type": "code",
   "execution_count": 15,
   "id": "4433328e",
   "metadata": {},
   "outputs": [],
   "source": [
    "d, n, w = 2, 100, 3.\n",
    "X1, X2 = two_clusters(d, n, w)\n",
    "X = np.concatenate((X1, X2), axis=0)"
   ]
  },
  {
   "cell_type": "code",
   "execution_count": 16,
   "id": "25280b00",
   "metadata": {},
   "outputs": [
    {
     "data": {
      "image/png": "[encoded data removed]",
      "text/plain": [
       "<Figure size 432x288 with 1 Axes>"
      ]
     },
     "metadata": {
      "needs_background": "light"
     },
     "output_type": "display_data"
    }
   ],
   "source": [
    "fig = plt.figure()\n",
    "ax = fig.add_subplot(111,aspect='equal')\n",
    "ax.scatter(X[:,0], X[:,1])\n",
    "plt.show()"
   ]
  },
  {
   "cell_type": "code",
   "execution_count": 17,
   "id": "17ba2934",
   "metadata": {},
   "outputs": [
    {
     "name": "stdout",
     "output_type": "stream",
     "text": [
      "1990.7764301698994\n",
      "439.3407184927022\n",
      "439.1505261946975\n",
      "439.1505261946975\n",
      "439.1505261946975\n",
      "439.1505261946975\n",
      "439.1505261946975\n",
      "439.1505261946975\n",
      "439.1505261946975\n",
      "439.1505261946975\n"
     ]
    }
   ],
   "source": [
    "assign = mmids_kmeans(X, 2)"
   ]
  },
  {
   "cell_type": "code",
   "execution_count": 18,
   "id": "e2dea7f8",
   "metadata": {},
   "outputs": [
    {
     "data": {
      "image/png": "[encoded data removed]",
      "text/plain": [
       "<Figure size 432x288 with 1 Axes>"
      ]
     },
     "metadata": {
      "needs_background": "light"
     },
     "output_type": "display_data"
    }
   ],
   "source": [
    "fig = plt.figure()\n",
    "ax = fig.add_subplot(111,aspect='equal')\n",
    "ax.scatter(X[:,0], X[:,1], c=assign)\n",
    "plt.show()"
   ]
  },
  {
   "cell_type": "markdown",
   "id": "704ac29c",
   "metadata": {},
   "source": [
    "Let's go up to $d = 1,000$ and see what happens."
   ]
  },
  {
   "cell_type": "code",
   "execution_count": 19,
   "id": "15a39fe8",
   "metadata": {},
   "outputs": [],
   "source": [
    "d, n, w = 1000, 100, 3.\n",
    "X1, X2 = two_clusters(d, n, w)\n",
    "X = np.concatenate((X1, X2), axis=0)"
   ]
  },
  {
   "cell_type": "markdown",
   "id": "fd766c10",
   "metadata": {},
   "source": [
    "Here the first two coordinates are still pretty well-separated."
   ]
  },
  {
   "cell_type": "code",
   "execution_count": 20,
   "id": "48c4e2a9",
   "metadata": {},
   "outputs": [
    {
     "data": {
      "image/png": "[encoded data removed]",
      "text/plain": [
       "<Figure size 432x288 with 1 Axes>"
      ]
     },
     "metadata": {
      "needs_background": "light"
     },
     "output_type": "display_data"
    }
   ],
   "source": [
    "fig = plt.figure()\n",
    "ax = fig.add_subplot(111,aspect='equal')\n",
    "ax.scatter(X[:,0], X[:,1])\n",
    "plt.show()"
   ]
  },
  {
   "cell_type": "markdown",
   "id": "588bdc88",
   "metadata": {},
   "source": [
    "This shouldn't be *too* surprising. The first coordinate of each $\\mathbf{Z}_i$ has mean either $w$ or $-w$ which are distance 6 appart ($w = 3$)."
   ]
  },
  {
   "cell_type": "markdown",
   "id": "da6c0053",
   "metadata": {},
   "source": [
    "This vanishes when we look at any other dimensions. Here is $Z_{i,18}$ plotted against $Z_{i,216}$. "
   ]
  },
  {
   "cell_type": "code",
   "execution_count": 21,
   "id": "34a4dbd2",
   "metadata": {},
   "outputs": [
    {
     "data": {
      "image/png": "[encoded data removed]",
      "text/plain": [
       "<Figure size 432x288 with 1 Axes>"
      ]
     },
     "metadata": {
      "needs_background": "light"
     },
     "output_type": "display_data"
    }
   ],
   "source": [
    "fig = plt.figure()\n",
    "ax = fig.add_subplot(111,aspect='equal')\n",
    "ax.scatter(X[:,17], X[:,215])\n",
    "plt.show()"
   ]
  },
  {
   "cell_type": "markdown",
   "id": "b251ec47",
   "metadata": {},
   "source": [
    "Let's see how $k$-means clustering works:"
   ]
  },
  {
   "cell_type": "code",
   "execution_count": 22,
   "id": "a864b6a1",
   "metadata": {},
   "outputs": [
    {
     "name": "stdout",
     "output_type": "stream",
     "text": [
      "200835.3225527596\n",
      "200835.3225527596\n",
      "200835.3225527596\n",
      "200835.3225527596\n",
      "200835.3225527596\n",
      "200835.3225527596\n",
      "200835.3225527596\n",
      "200835.3225527596\n",
      "200835.3225527596\n",
      "200835.3225527596\n"
     ]
    }
   ],
   "source": [
    "assign = mmids_kmeans(X, 2)"
   ]
  },
  {
   "cell_type": "markdown",
   "id": "32f29eae",
   "metadata": {},
   "source": [
    "It *seems* to stabilize? So maybe the clustering is good?"
   ]
  },
  {
   "cell_type": "markdown",
   "id": "d8ffa9ac",
   "metadata": {},
   "source": [
    "Let's look at the first two coordinates with the color-coding from $k$-means:"
   ]
  },
  {
   "cell_type": "code",
   "execution_count": 23,
   "id": "0412f118",
   "metadata": {},
   "outputs": [
    {
     "data": {
      "image/png": "[encoded data removed]",
      "text/plain": [
       "<Figure size 432x288 with 1 Axes>"
      ]
     },
     "metadata": {
      "needs_background": "light"
     },
     "output_type": "display_data"
    }
   ],
   "source": [
    "fig = plt.figure()\n",
    "ax = fig.add_subplot(111,aspect='equal')\n",
    "ax.scatter(X[:,0], X[:,1], c=assign)\n",
    "plt.show()"
   ]
  },
  {
   "cell_type": "markdown",
   "id": "6e5c46b5",
   "metadata": {},
   "source": [
    "In short the issue is that the following:\n",
    "$$\n",
    "\\mathbf{Z} \\sim \\mathcal{N}\\left(w\\mathbf{e}_1, I_{d\\times d} \\right)\n",
    "$$\n",
    "is a spherical Gaussian in $\\mathbb{R}^d$ with mean vector $w \\mathbf{e}_1$. \n",
    "\n",
    "Then for $w$ small and $d$ large\n",
    "$$\n",
    "\\mathbf{Z} \\approx \\sqrt{d} \\boldsymbol{\\Theta}\n",
    "$$\n",
    "where $\\boldsymbol\\Theta$ is a uniformly chosen point on the $d-1$-dimensional sphere in $\\mathbb{R}^{d}$."
   ]
  },
  {
   "cell_type": "markdown",
   "id": "9a69843b",
   "metadata": {},
   "source": [
    "So the $d=1,000$ dimensional data points are very close to i.i.d. random variables.\n"
   ]
  },
  {
   "cell_type": "markdown",
   "id": "abbdc086",
   "metadata": {},
   "source": [
    "Below `highdim_2clusters` shows what happens visualy. \n",
    "\n",
    "It first generates data `X1` and `X2` using `two_clusters` from above. \n",
    "\n",
    "It then plots the histogram of distances between all possible pairs of data points within `X1`\n",
    "and the histogram of pairwise distances between all possible pairs of data points with one in `X1` and the other in `X2`."
   ]
  },
  {
   "cell_type": "code",
   "execution_count": 24,
   "id": "8af27343",
   "metadata": {},
   "outputs": [],
   "source": [
    "def highdim_2clusters(d, n, w):\n",
    "    # generate datasets\n",
    "    X1, X2 = two_clusters(d, n, w)\n",
    "    \n",
    "    # within-cluster distances for X1\n",
    "    intra = np.stack([LA.norm(X1[i,:] - X1[j,:]) for i in range(n) for j in range(n) if j>i])\n",
    "    plt.hist(intra, density=True, label='within-cluster')\n",
    "    plt.title(f'dim={d}')\n",
    " \n",
    "    # between-cluster distances\n",
    "    inter = np.stack([LA.norm(X1[i,:] - X2[j,:]) for i in range(n) for j in range(n)])\n",
    "    plt.hist(inter, density=True, alpha=0.75, label='between-cluster')\n",
    "\n",
    "    plt.legend(loc='upper right')\n",
    "    plt.title(f'dim={d}')"
   ]
  },
  {
   "cell_type": "code",
   "execution_count": 27,
   "id": "2f6a5bc6",
   "metadata": {},
   "outputs": [
    {
     "data": {
      "image/png": "[encoded data removed]",
      "text/plain": [
       "<Figure size 432x288 with 1 Axes>"
      ]
     },
     "metadata": {
      "needs_background": "light"
     },
     "output_type": "display_data"
    }
   ],
   "source": [
    "highdim_2clusters(1000, 100, 3)"
   ]
  },
  {
   "cell_type": "markdown",
   "id": "a59194da",
   "metadata": {},
   "source": [
    "#### Heuristic for statement above about Gaussians\n",
    "\n",
    "Recall Chebyshev's and Markov's inequalities:\n",
    "* (Markov) Let $X$ be a non-negative random variable. Then for any $t\\ge 0$\n",
    "$$\n",
    "\\mathbb{P}(X\\ge t) \\le \\frac{\\mathbb{E}[X]}{t};\n",
    "$$\n",
    "\n",
    "* (Chebyshev's inequality) Let $X$ be any random variable with mean $\\mu = \\mathbb{E}[X]$. Then for any $t \\ge 0$\n",
    "$$\n",
    "\\mathbb{P}(X\\ge \\mu + t) \\le \\frac{\\operatorname{Var}(X)}{t^2},\\\\\n",
    "\\mathbb{P}(X\\le \\mu - t) \\le \\frac{\\operatorname{Var}(X)}{t^2},\\\\\n",
    "\\mathbb{P}(|X-\\mu|\\ge  t) \\le \\frac{\\operatorname{Var}(X)}{t^2}.\n",
    "$$\n",
    "\n"
   ]
  },
  {
   "cell_type": "markdown",
   "id": "bf2380e7",
   "metadata": {},
   "source": [
    "Now $\\mathbf{Z}$ is a spherical Gaussian in $\\mathbb{R}^d$ with mean $0$ and variance 1. That means \n",
    "$$\n",
    "\\mathbf{Z} = \\begin{bmatrix} Z_1\\\\Z_2\\\\\\vdots\\\\Z_d\n",
    "\\end{bmatrix},\\qquad  (Z_i; i=1,\\dotsm, d)\\overset{\\text{i.i.d}}{\\sim} \\mathcal{N}(0,1).\n",
    "$$"
   ]
  },
  {
   "cell_type": "markdown",
   "id": "515f3152",
   "metadata": {},
   "source": [
    "**Fact:** If $\\mathbf{Z}$ is a spherical Gaussian in $\\mathbb{R}^d$ with mean $0$ and variance $1$, and $U\\in \\mathbb{R}^{d\\times d}$ is an orthogonal matrix:\n",
    "$$\n",
    "U U^T = U^T U = I_{d\\times d},\n",
    "$$\n",
    "then $U\\mathbf{Z} \\overset{d}{=} \\mathbf{Z}$.\n",
    "\n",
    "In words: The distribution of $\\mathbf{Z}$ is invariant under rotations and reflections in $\\mathbb{R}^d$."
   ]
  },
  {
   "cell_type": "markdown",
   "id": "bb9906cd",
   "metadata": {},
   "source": [
    "**Lemma** Let $\\mathbf{Z}$ be a spherical Gaussian in $\\mathbb{R}^d$ with mean $0$ and variance $1$. Then\n",
    "$$\n",
    "\\mathbb{P}\\left( \\left|\\|\\mathbf{Z}\\|^2 - d\\right|\\ge td \\right)\\le \\frac{2}{d t^2}.\n",
    "$$"
   ]
  },
  {
   "cell_type": "markdown",
   "id": "c7757609",
   "metadata": {},
   "source": [
    "*Proof:* \n",
    "First\n",
    "$$\n",
    "\\|\\mathbf{Z}\\|^2 = \\sum_{i=1}^d Z_i^2\n",
    "$$ is the sum of indepenent and identically distributed random variables.\n"
   ]
  },
  {
   "cell_type": "markdown",
   "id": "5f1683f4",
   "metadata": {},
   "source": [
    "Second\n",
    "$$\n",
    "\\mathbb{E}\\left[\\|\\mathbf{Z}\\|^2\\right] = \\sum_{i=1}^d \\mathbb{E}\\left[Z_i^2\\right]  = d\\mathbb{E}\\left[Z_1^2\\right] = d,\n",
    "$$\n",
    "since $\\operatorname{Var}(Z_1) = \\mathbb{E}[Z_1^2] = 1.$"
   ]
  },
  {
   "cell_type": "markdown",
   "id": "2f276681",
   "metadata": {},
   "source": [
    "Third, using independence,\n",
    "$$\n",
    "\\operatorname{Var}\\left[\\|\\mathbf{Z}\\|^2\\right] = \\sum_{i=1}^d \\operatorname{Var}({Z}^2_i) = d \\operatorname{Var}(Z_1^2).\n",
    "$$\n",
    "Now\n",
    "$$\n",
    "\\operatorname{Var}(X) = \\mathbb{E}[X^2]- \\mathbb{E}[X]^2,\n",
    "$$\n",
    "so \n",
    "$$\n",
    "\\operatorname{Var}(Z_1^2) = \\mathbb{E}[Z_1^4]-\\mathbb{E}[Z_1^2]^2 = 3 -1^2 = 2.\n",
    "$$"
   ]
  },
  {
   "cell_type": "markdown",
   "id": "4eac3741",
   "metadata": {},
   "source": [
    "Now we can apply Chebyshev's inequality:\n",
    "$$\n",
    "\\mathbb{P}\\Bigg(\\bigg|\\|\\mathbf{Z}\\|^2 - d\\bigg| \\ge t d \\Bigg)\\le \\frac{\\operatorname{Var}(\\|\\mathbf{Z}\\|^2)}{(td)^2} = \\frac{2d}{d^2 t^2} = \\frac{2}{dt^2}.\\square\n",
    "$$\n"
   ]
  },
  {
   "cell_type": "markdown",
   "id": "8d0e9e02",
   "metadata": {},
   "source": [
    "For any $a>0$ and $\\varepsilon\\in(0,1)$ we can write\n",
    "$$\n",
    "|x-a|< \\varepsilon a\n",
    "$$\n",
    "as\n",
    "$$\n",
    "-\\varepsilon a < x-a< \\varepsilon a\n",
    "$$\n",
    "which is\n",
    "$$\n",
    "x\\in \\Big((1-\\varepsilon)a, (1+\\varepsilon)a \\Big).\n",
    "$$"
   ]
  },
  {
   "cell_type": "markdown",
   "id": "a9ed2352",
   "metadata": {},
   "source": [
    "So the above lemma implies\n",
    "$$\n",
    "\\mathbb{P}\\Bigg(\\|\\mathbf{Z}\\| \\in \\Big( \\sqrt{(1-\\varepsilon)d}, \\sqrt{(1+\\varepsilon)d}\\Big) \\Bigg) \\le \\frac{2}{d\\varepsilon^2}.\n",
    "$$"
   ]
  },
  {
   "cell_type": "markdown",
   "id": "7ed044ef",
   "metadata": {},
   "source": [
    "Let's do some numerical computations:"
   ]
  },
  {
   "cell_type": "code",
   "execution_count": 49,
   "id": "2c404d48",
   "metadata": {},
   "outputs": [],
   "source": [
    "d,n,w = 10000,1000,0\n",
    "Z = one_cluster(d,n,w)\n",
    "eps = .05"
   ]
  },
  {
   "cell_type": "code",
   "execution_count": 50,
   "id": "a8b375fa",
   "metadata": {},
   "outputs": [],
   "source": [
    "Norms = [LA.norm(Z[i,:]) for i in range(n)]"
   ]
  },
  {
   "cell_type": "code",
   "execution_count": 51,
   "id": "f4be0a2e",
   "metadata": {},
   "outputs": [
    {
     "data": {
      "image/png": "[encoded data removed]",
      "text/plain": [
       "<Figure size 432x288 with 1 Axes>"
      ]
     },
     "metadata": {
      "needs_background": "light"
     },
     "output_type": "display_data"
    }
   ],
   "source": [
    "plt.axvline(x = np.sqrt(d), color = 'g', label = 'axvline - full height')\n",
    "plt.axvline(x = np.sqrt((1-eps)*d), color = 'r', label = 'axvline - full height')\n",
    "plt.axvline(x = np.sqrt((1+eps)*d), color = 'r', label = 'axvline - full height')\n",
    "plt.hist(Norms, bins = 25)\n",
    "plt.show()"
   ]
  },
  {
   "cell_type": "markdown",
   "id": "80b7fda6",
   "metadata": {},
   "source": [
    "The observed proporition of data points $\\mathbf{Z}_i$ with $\\|\\mathbf{Z}\\|\\notin \\Big(\\sqrt{(1-\\varepsilon)d},\\sqrt{(1+\\varepsilon)d} \\Big)$ for $\\varepsilon =$ ``eps`` $ = 0.05$ above."
   ]
  },
  {
   "cell_type": "code",
   "execution_count": 53,
   "id": "a800603d",
   "metadata": {},
   "outputs": [
    {
     "data": {
      "text/plain": [
       "0.001"
      ]
     },
     "execution_count": 53,
     "metadata": {},
     "output_type": "execute_result"
    }
   ],
   "source": [
    "sum( (z< np.sqrt((1-eps)*d) or z>np.sqrt((1+eps)*d)) for z in Norms)/n"
   ]
  },
  {
   "cell_type": "markdown",
   "id": "0c3408db",
   "metadata": {},
   "source": [
    "Below is the bound that the above lemma gives us. "
   ]
  },
  {
   "cell_type": "code",
   "execution_count": 55,
   "id": "e95df54f",
   "metadata": {},
   "outputs": [
    {
     "name": "stdout",
     "output_type": "stream",
     "text": [
      "0.07999999999999999\n"
     ]
    }
   ],
   "source": [
    "print(2/(eps**2 * d)) ## x**p is x^p in python."
   ]
  },
  {
   "cell_type": "code",
   "execution_count": null,
   "id": "d6eafa30",
   "metadata": {},
   "outputs": [],
   "source": []
  }
 ],
 "metadata": {
  "kernelspec": {
   "display_name": "Python 3 (ipykernel)",
   "language": "python",
   "name": "python3"
  },
  "language_info": {
   "codemirror_mode": {
    "name": "ipython",
    "version": 3
   },
   "file_extension": ".py",
   "mimetype": "text/x-python",
   "name": "python",
   "nbconvert_exporter": "python",
   "pygments_lexer": "ipython3",
   "version": "3.10.4"
  }
 },
 "nbformat": 4,
 "nbformat_minor": 5
}
