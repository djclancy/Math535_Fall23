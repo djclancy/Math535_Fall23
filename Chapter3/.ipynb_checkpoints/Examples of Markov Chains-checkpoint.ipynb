{
 "cells": [
  {
   "cell_type": "markdown",
   "id": "20b1f333",
   "metadata": {},
   "source": [
    "# Examples of Time-Homogeneous Markov Chains"
   ]
  },
  {
   "cell_type": "code",
   "execution_count": 4,
   "id": "cfb614fc",
   "metadata": {},
   "outputs": [],
   "source": [
    "import numpy as np\n",
    "import matplotlib.pyplot as plt\n",
    "import scipy.linalg\n",
    "import random"
   ]
  },
  {
   "cell_type": "markdown",
   "id": "3ac6f784",
   "metadata": {},
   "source": [
    "## Example 1"
   ]
  },
  {
   "cell_type": "markdown",
   "id": "9b54ce2a",
   "metadata": {},
   "source": [
    "Let's look at a simple three state Markov chian where the states $\\mathcal{S} = \\{1,2,3\\}$ and the transition probabilities are described in the table:\n",
    "\n",
    "|           | $X_1 = 1$ | $X_1 = 2$ | $X_1 = 3$ |\n",
    "|-----------|-----------|-----------|-----------|\n",
    "| $X_0 = 1$ | $1/3$     | $1/6$     | $1/2$     |\n",
    "| $X_0 = 2$ | $1/2$     | $0$       | $1/2$     |\n",
    "| $X_0 = 3$ | $1/4$     | $1/4$     | $1/2$     |\n",
    "\n",
    "We can write this as a matrix, which is below:\n",
    "$$\n",
    "P = \\begin{bmatrix}\n",
    "1/3 & 1/6& 1/2\\\\\n",
    "1/2 & 0 & 1/2\\\\\n",
    "1/4& 1/4 & 1/2\n",
    "\\end{bmatrix}.\n",
    "$$\n",
    "\n",
    "Putting this into python code we get (and I will round everything to two decimal places):"
   ]
  },
  {
   "cell_type": "code",
   "execution_count": 5,
   "id": "1c184fcc",
   "metadata": {},
   "outputs": [
    {
     "name": "stdout",
     "output_type": "stream",
     "text": [
      "[[0.33 0.17 0.5 ]\n",
      " [0.5  0.   0.5 ]\n",
      " [0.25 0.25 0.5 ]]\n"
     ]
    }
   ],
   "source": [
    "P = np.array([[1/3, 1/6, 1/2], [1/2,0,1/2], [1/4,1/4,1/2]])\n",
    "print(np.round(P,2))"
   ]
  },
  {
   "cell_type": "markdown",
   "id": "333ad6c3",
   "metadata": {},
   "source": [
    "Recall that the *stationary distribution* $\\boldsymbol{\\pi} = (\\pi_1,\\pi_2,\\pi_3)$ is a row vector such that $\\boldsymbol{\\pi} P = \\boldsymbol{\\pi}$.\n",
    "\n",
    "We can use ``scipy.linalg.eig`` to compute left eigenvectors.\n"
   ]
  },
  {
   "cell_type": "code",
   "execution_count": 15,
   "id": "2c87be2e",
   "metadata": {},
   "outputs": [
    {
     "name": "stdout",
     "output_type": "stream",
     "text": [
      "[ 1.   -0.   -0.17]\n",
      "[[-0.52 -0.8   0.71]\n",
      " [-0.29  0.27 -0.71]\n",
      " [-0.81  0.53 -0.  ]]\n"
     ]
    }
   ],
   "source": [
    "w, vl, vr = scipy.linalg.eig(P, left = True)\n",
    "print(np.round(np.real(w),2))\n",
    "print(np.round(vl,2))"
   ]
  },
  {
   "cell_type": "markdown",
   "id": "8a2acbd5",
   "metadata": {},
   "source": [
    "We can check that the first column of the $3\\times 3$ matrix above cooresponds to a left eigenvector of eigenvalue 1:"
   ]
  },
  {
   "cell_type": "code",
   "execution_count": 37,
   "id": "c2484d32",
   "metadata": {},
   "outputs": [
    {
     "data": {
      "text/plain": [
       "array([-0.52, -0.29, -0.81])"
      ]
     },
     "execution_count": 37,
     "metadata": {},
     "output_type": "execute_result"
    }
   ],
   "source": [
    "np.round(np.matmul(vl[:,0],P),2)"
   ]
  },
  {
   "cell_type": "markdown",
   "id": "3fcebffd",
   "metadata": {},
   "source": [
    "That means that the vector $\\mathbf{v} \\approx (-0.52, -0.29, -0.81)$ is actually proportional to the stationary distribution $\\boldsymbol{\\pi}$. The ``scipy.linalg.eig`` returns a length $1$ vector ($\\|\\mathbf{v}\\|_2^2 = \\sum_{i} v_i^2 = 1$) but we want the vector $\\boldsymbol{\\pi}$ to satisfy $\\sum_{i} \\pi_i = 1$."
   ]
  },
  {
   "cell_type": "code",
   "execution_count": 39,
   "id": "fcb82d10",
   "metadata": {},
   "outputs": [
    {
     "data": {
      "text/plain": [
       "1.0"
      ]
     },
     "execution_count": 39,
     "metadata": {},
     "output_type": "execute_result"
    }
   ],
   "source": [
    "np.linalg.norm(vl[:,0])"
   ]
  },
  {
   "cell_type": "markdown",
   "id": "9827e512",
   "metadata": {},
   "source": [
    "So we will now transform the vector $\\boldsymbol{v}$ to the actual stationary distribution:\n",
    "$$\\pi_i = \\frac{v_i}{\\sum_j v_j}. $$"
   ]
  },
  {
   "cell_type": "code",
   "execution_count": 46,
   "id": "01a0f24e",
   "metadata": {},
   "outputs": [
    {
     "name": "stdout",
     "output_type": "stream",
     "text": [
      "[0.32 0.18 0.5 ]\n"
     ]
    }
   ],
   "source": [
    "piVec = vl[:,0]/np.sum(vl[:,0])\n",
    "print(np.round(piVec,2))"
   ]
  },
  {
   "cell_type": "markdown",
   "id": "41a33c56",
   "metadata": {},
   "source": [
    "This looks close to the rational vector $ (1/3, 1/6, 1/2)$ so maybe there was a rounding error. Let's check by hand:\n",
    "$$\n",
    "\\begin{bmatrix}\n",
    "1/3&1/6&1/2\n",
    "\\end{bmatrix}\\begin{bmatrix}\n",
    "1/3&1/6&1/2\\\\\n",
    "1/2&0&1/2\\\\\n",
    "1/4&1/4&1/2\n",
    "\\end{bmatrix} = \\begin{bmatrix}\n",
    "\\frac13\\frac13 + \\frac16\\frac12 + \\frac12\\frac14 & \\frac13\\frac16 + \\frac16 0 + \\frac12\\frac14 & \\frac13\\frac12 + \\frac16\\frac12 & \\frac12\\frac12\n",
    "\\end{bmatrix}\n",
    "$$\n",
    "$$\n",
    "= \\begin{bmatrix}\n",
    "\\frac{1}{9}+\\frac{1}{12}+ \\frac{1}{8} & \\frac{1}{18} + \\frac{1}{8} & \\frac{1}{6}+\\frac{1}{12} + \\frac{1}{4}\n",
    "\\end{bmatrix}\n",
    "$$\n",
    "$$\n",
    "= \\begin{bmatrix}\n",
    "\\frac{23}{72} & \\frac{13}{72} & \\frac{1}{2}\n",
    "\\end{bmatrix}.\n",
    "$$\n",
    "That means that the stationary distribution $\\boldsymbol{\\pi}\\neq (1/3,1/6,1/2)$.\n"
   ]
  },
  {
   "cell_type": "markdown",
   "id": "b2bb7049",
   "metadata": {},
   "source": [
    "Let's run a few experiments.\n",
    "\n",
    "We'll write the code more generally:"
   ]
  },
  {
   "cell_type": "code",
   "execution_count": 74,
   "id": "2b5c40fc",
   "metadata": {},
   "outputs": [],
   "source": [
    "def runMarkovChain(startPosition, transMat, steps):\n",
    "    n = np.shape(transMat)[0] # Number of states\n",
    "    Xpath = [startPosition]\n",
    "    for t in range(steps):\n",
    "        x = Xpath[-1]\n",
    "        y = random.choices([j for j in range(n)], weights= [a for a in transMat[x,:]],k=1)[0]\n",
    "        Xpath.append(y)\n",
    "    return Xpath"
   ]
  },
  {
   "cell_type": "markdown",
   "id": "0654485f",
   "metadata": {},
   "source": [
    "Now let's run this to get the outcomes of a large number of trials (say 200) after 1000 steps where all are started from the position 0."
   ]
  },
  {
   "cell_type": "code",
   "execution_count": 78,
   "id": "8356be82",
   "metadata": {},
   "outputs": [],
   "source": [
    "X = []\n",
    "trials = 200\n",
    "steps = 1000\n",
    "for outcome in range(trials):\n",
    "    Xpath = runMarkovChain(0, P, steps)\n",
    "    X.append(Xpath[-1])"
   ]
  },
  {
   "cell_type": "markdown",
   "id": "c31d0ed9",
   "metadata": {},
   "source": [
    "Let's look at the empirical histogram of $X$ and see if it is close to the stationary distribution?"
   ]
  },
  {
   "cell_type": "code",
   "execution_count": 92,
   "id": "84f47909",
   "metadata": {},
   "outputs": [
    {
     "data": {
      "text/plain": [
       "(0.0, 0.6)"
      ]
     },
     "execution_count": 92,
     "metadata": {},
     "output_type": "execute_result"
    },
    {
     "data": {
      "image/png": "[encoded data removed]",
      "text/plain": [
       "<Figure size 432x288 with 1 Axes>"
      ]
     },
     "metadata": {
      "needs_background": "light"
     },
     "output_type": "display_data"
    }
   ],
   "source": [
    "plt.bar( [1,2,3],[np.sum([r == j for r in X])/trials for j in range(3)])\n",
    "plt.ylim(0,.6)"
   ]
  },
  {
   "cell_type": "markdown",
   "id": "afc62963",
   "metadata": {},
   "source": [
    "## Example 2"
   ]
  },
  {
   "cell_type": "markdown",
   "id": "425c8ea2",
   "metadata": {},
   "source": [
    "Let's try a much larger example. \n",
    "\n",
    "We will have states $\\mathcal{S} = \\{0,1,2,\\dotsm, 5\\}$ and the transition probabilities are as follows:\n",
    "$$\n",
    "\\mathbb{P}(X_1 = k | X_0 = n) = \\begin{cases}\n",
    "\\displaystyle \\binom{n}{k} \\left(\\frac{2}{3}\\right)^k \\left(\\frac{1}{3} \\right)^{n-k} &: n>0\\text{ and } k = 0,1,\\dotsm, n\\\\\n",
    "0 &: n>0, k>n \\text{ or }k \\neq 5 \\text{ and }n = 0\\\\\n",
    "1&: n = 0, k = 5\n",
    "\\end{cases}.\n",
    "$$\n",
    "\n",
    "In words what this does is the following: If you are at state $n = 0$, then your next state is $k =5$. However, if you are at state $n\\neq 0$, then your next state is randomly distributed according to a binomial random variable with parameters $n$ and $p = 2/3$."
   ]
  },
  {
   "cell_type": "code",
   "execution_count": 123,
   "id": "5fa1563c",
   "metadata": {},
   "outputs": [
    {
     "name": "stdout",
     "output_type": "stream",
     "text": [
      "[[0.   0.   0.   0.   0.   1.  ]\n",
      " [0.33 0.67 0.   0.   0.   0.  ]\n",
      " [0.11 0.44 0.44 0.   0.   0.  ]\n",
      " [0.04 0.22 0.44 0.3  0.   0.  ]\n",
      " [0.01 0.1  0.3  0.4  0.2  0.  ]\n",
      " [0.   0.04 0.16 0.33 0.33 0.13]]\n"
     ]
    }
   ],
   "source": [
    "def genBinPMF(n,p,totalLength): #this just generates the pmf of a Binomial\n",
    "    pVec = [np.math.comb(n,k)* p**(k) *(1-p)**(n-k) for k in range(n+1)]\n",
    "    pVec.extend([0 for j in range(totalLength-n)])\n",
    "    return pVec\n",
    "\n",
    "Prows = [[0,0,0,0,0,1]]\n",
    "Prows.extend([genBinPMF(n,2/3,5) for n in range(1,6)])\n",
    "P = np.stack(Prows, axis = 0)\n",
    "print(np.round(P,2))"
   ]
  },
  {
   "cell_type": "markdown",
   "id": "104072cd",
   "metadata": {},
   "source": [
    "Let's get the stationary distribution:"
   ]
  },
  {
   "cell_type": "code",
   "execution_count": 133,
   "id": "7d7f5ed5",
   "metadata": {},
   "outputs": [
    {
     "name": "stdout",
     "output_type": "stream",
     "text": [
      "[0.14 0.35 0.17 0.11 0.07 0.16]\n"
     ]
    }
   ],
   "source": [
    "def GetStationVec(transMat):\n",
    "    w, vl, vr = scipy.linalg.eig(transMat, left = True)\n",
    "    pi = np.array(np.real(vl[:,0]))\n",
    "    pi = pi/np.sum(pi)\n",
    "    return pi\n",
    "pi = GetStationVec(P)\n",
    "print(np.round(pi,2))"
   ]
  },
  {
   "cell_type": "markdown",
   "id": "0e547fa1",
   "metadata": {},
   "source": [
    "Let's also run a lot of trials and compare this to the true stationary distribution. Again, we'll start from the state 0."
   ]
  },
  {
   "cell_type": "code",
   "execution_count": 137,
   "id": "01840d59",
   "metadata": {},
   "outputs": [
    {
     "data": {
      "image/png": "[encoded data removed]",
      "text/plain": [
       "<Figure size 432x288 with 1 Axes>"
      ]
     },
     "metadata": {
      "needs_background": "light"
     },
     "output_type": "display_data"
    },
    {
     "data": {
      "image/png": "[encoded data removed]",
      "text/plain": [
       "<Figure size 432x288 with 1 Axes>"
      ]
     },
     "metadata": {
      "needs_background": "light"
     },
     "output_type": "display_data"
    }
   ],
   "source": [
    "X = []\n",
    "trials = 400\n",
    "steps = 1000\n",
    "for outcome in range(trials):\n",
    "    Xpath = runMarkovChain(0, P, steps)\n",
    "    X.append(Xpath[-1])\n",
    "plt.bar( [j for j in range(6)],[np.sum([r == j for r in X])/trials for j in range(6)])\n",
    "plt.ylim(0,.4)\n",
    "plt.title(\"Empirical Behavior\")\n",
    "plt.show()\n",
    "plt.bar( [j for j in range(6)],pi, color = 'r')\n",
    "plt.title(\"Stationary Distribution\")\n",
    "plt.ylim(0,.4)\n",
    "plt.show()"
   ]
  },
  {
   "cell_type": "markdown",
   "id": "f55fca77",
   "metadata": {},
   "source": [
    "The two distributions look almost exactly the same. "
   ]
  },
  {
   "cell_type": "code",
   "execution_count": null,
   "id": "89981d32",
   "metadata": {},
   "outputs": [],
   "source": []
  }
 ],
 "metadata": {
  "kernelspec": {
   "display_name": "Python 3 (ipykernel)",
   "language": "python",
   "name": "python3"
  },
  "language_info": {
   "codemirror_mode": {
    "name": "ipython",
    "version": 3
   },
   "file_extension": ".py",
   "mimetype": "text/x-python",
   "name": "python",
   "nbconvert_exporter": "python",
   "pygments_lexer": "ipython3",
   "version": "3.10.4"
  }
 },
 "nbformat": 4,
 "nbformat_minor": 5
}
