{
 "cells": [
  {
   "cell_type": "markdown",
   "id": "6ca432d5",
   "metadata": {},
   "source": [
    "# PageRank"
   ]
  },
  {
   "cell_type": "code",
   "execution_count": 2,
   "id": "41905ea9",
   "metadata": {},
   "outputs": [],
   "source": [
    "import numpy as np\n",
    "import networkx as nx\n",
    "import matplotlib.pyplot as plt"
   ]
  },
  {
   "cell_type": "markdown",
   "id": "d72114d1",
   "metadata": {},
   "source": [
    "Let $G = (V,E)$ be a directed graph on the vertices $1,2,\\dotsm,n$. We add self-loops to every vertex that doesn't have an outgoing edge so that\n",
    "$$\n",
    "\\delta^+(v) = \\#\\{u\\in V: (v,u) \\in E\\}\\ge 1.\n",
    "$$\n",
    "\n",
    "Recall that the adjacency matrix \n",
    "$$\n",
    "A = (a_{ij})_{i,j\\in[n]} \\qquad a_{ij} = \\begin{cases}\n",
    "1&: (i,j)\\in E\\\\\n",
    "0&:\\text{else}\n",
    "\\end{cases},\n",
    "$$\n",
    "and the matrix $D$ is\n",
    "$$\n",
    "D = \\text{diag}(A\\boldsymbol{1}) = \\begin{bmatrix}\n",
    "\\delta^+(1)&0&\\dotsm&0\\\\\n",
    "0&\\delta^+(2) &\\dotsm&0\\\\\n",
    "\\vdots&&\\ddots&\\vdots\\\\\n",
    "0&\\dotsm&0&\\delta^+(n)\n",
    "\\end{bmatrix}.\n",
    "$$\n",
    "Note that $D$ is invertible as all the diagonal entries $\\delta^+(j)\\ge 1$ are never zero.\n",
    "\n",
    "Then the matrix\n",
    "$$\n",
    "P = D^{-1} A\n",
    "$$\n",
    "is the transition matrix of a random walk on the graph $G$."
   ]
  },
  {
   "cell_type": "markdown",
   "id": "c201d851",
   "metadata": {},
   "source": [
    "PageRank will be a vector $\\mathbf{PR} = (\\mathbf{PR}_1,\\dotsm,\\mathbf{PR}_n)$ which measures in some sense the \"centrality\" of the webpage $j\\in[n]$. \n",
    "\n",
    "A first guess may be that a good choice is a stationary distribution $\\boldsymbol{\\pi}$ of $P$:\n",
    "$$\n",
    "\\pi_i = \\sum_{j=1}^n \\pi_j p_{ji} = \\sum_{j: (j,i)\\in E} \\pi_j \\frac{1}{\\delta^+(j)}.\n",
    "$$\n",
    "Unfortunately, there could be infinitely many such vectors as we do not know whether or not $P$ is irreducible or not."
   ]
  },
  {
   "cell_type": "markdown",
   "id": "af66360d",
   "metadata": {},
   "source": [
    "One way to overcome this is to **force** somehow the transition matrix $P$ to become irreducible. \n",
    "\n",
    "We know that if $P$ and $P'$ are two stochastic matrices that \n",
    "$$\n",
    "\\alpha P + (1-\\alpha)P'\\qquad \\alpha\\in[0,1]\n",
    "$$ is stochastic (HW problem) and so may we can average $P$ with a *nice* matrix $P'$ to make a new matrix, $Q$, that is irreducible.\n",
    "\n",
    "That is we define\n",
    "$$\n",
    "Q = \\alpha P + (1-\\alpha) \\frac{1}{n} \\boldsymbol{1}\\boldsymbol{1}^T.\n",
    "$$\n",
    "\n",
    "Note $$\n",
    " \\boldsymbol{1}\\boldsymbol{1}^T = \\begin{bmatrix}\n",
    " 1&1&1&\\dotsm&1\\\\\n",
    " 1&1&1&\\dotsm&1\\\\\n",
    " \\vdots&&\\ddots&&\\vdots\\\\\n",
    " 1&1&\\dotsm&1&1\n",
    " \\end{bmatrix}\n",
    "$$\n",
    "which has row sums of $n$. So $\\frac{1}{n} \\boldsymbol{1}\\boldsymbol{1}^T$ is stochastic!"
   ]
  },
  {
   "cell_type": "markdown",
   "id": "af8c8f77",
   "metadata": {},
   "source": [
    "If $\\alpha\\in(0,1)$ then $Q_{i,j}\\ge \\frac{1-\\alpha}{n}>0$ no matter what $P$ was, and so \n",
    "$$\n",
    "Q\\qquad\\text{is weakly lazy and irreducible}.\n",
    "$$\n",
    "Hence it is also aperiodic.\n",
    "\n",
    "Finally $\\mathbf{PR}$ is defined as the unique stationary distribution of $Q$."
   ]
  },
  {
   "cell_type": "code",
   "execution_count": null,
   "id": "12e1008f",
   "metadata": {},
   "outputs": [],
   "source": [
    "\n"
   ]
  }
 ],
 "metadata": {
  "kernelspec": {
   "display_name": "Python 3 (ipykernel)",
   "language": "python",
   "name": "python3"
  },
  "language_info": {
   "codemirror_mode": {
    "name": "ipython",
    "version": 3
   },
   "file_extension": ".py",
   "mimetype": "text/x-python",
   "name": "python",
   "nbconvert_exporter": "python",
   "pygments_lexer": "ipython3",
   "version": "3.10.4"
  }
 },
 "nbformat": 4,
 "nbformat_minor": 5
}
