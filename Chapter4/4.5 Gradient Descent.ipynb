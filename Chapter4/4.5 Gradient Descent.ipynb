{
 "cells": [
  {
   "cell_type": "markdown",
   "id": "5cefdef2-6256-4a88-9321-1e9eebf40e71",
   "metadata": {},
   "source": [
    "# Gradient Descent"
   ]
  },
  {
   "cell_type": "markdown",
   "id": "ff19b0ff-0571-43c9-8cc2-4dac93f5b5d0",
   "metadata": {},
   "source": [
    "We know that if $f:\\mathbb{R}^d\\to \\mathbb{R}$ is convex (and twice continuously differentiable), then the global minimizers of $f$ are precisely the points $\\mathbf{x}\\in \\mathbb{R}^d$ such that\n",
    "$$\n",
    "\\nabla f(\\mathbf{x}) = \\boldsymbol{0}.\n",
    "$$ Moreover, if $f$ is $\\rho$-strongly convex for some $\\rho>0$ then there such points are **unique** or if \n",
    "$$\n",
    "H_f(\\mathbf{x}) \\text{ is positive definite}\n",
    "$$ then such a point is unique.\n",
    "\n",
    "The natural question is ***How do we numerically find these points?***\n",
    "One answer turns out to be a relatively simple algorithm called gradient descent."
   ]
  },
  {
   "cell_type": "markdown",
   "id": "382e4b51-86c6-453b-a015-f1b4f2255b76",
   "metadata": {},
   "source": [
    "\n",
    "Let $f$ be any continuously differentiable function and recall that $\\mathbf{v}$ is a descent direction of $f$ at $\\mathbf{x}$ if $$\\frac{\\partial f}{\\partial \\mathbf{v}} (\\mathbf{x}) = \\langle \\nabla f(\\mathbf{x}),\\mathbf{v}\\rangle < 0$$\n",
    "and thatif $\\mathbf{x}$ is a point that $\\nabla f(\\mathbf{x})\\neq \\boldsymbol{0}$, then \n",
    "$$\n",
    "\\mathbf{v} = -\\nabla f(\\mathbf{x})\n",
    "$$ is a descent direction. It turns out that up-to making the vector longer, this is the *steepest* direction of descent.\n",
    "\n",
    "**Lemma** Let $f:\\mathbb{R}^d\\to \\mathbb{R}$ be continuously differentiable at $\\mathbf{x}_0$. For any vector $\\mathbf{v}$ of unit length ($\\|\\mathbf{v}\\| = 1$) then\n",
    "$$\n",
    "\\frac{\\partial f}{\\partial \\mathbf{v}} (\\mathbf{x}_0) \\ge \\frac{\\partial f}{\\partial \\mathbf{v}^*} (\\mathbf{x}_0)\n",
    "$$ where \n",
    "$$\n",
    "\\mathbf{v}^*  = - \\frac{\\nabla f (\\mathbf{x}_0)}{\\|\\nabla f(\\mathbf{x}_0)\\|}.\n",
    "$$"
   ]
  },
  {
   "cell_type": "markdown",
   "id": "123e5d41-62c6-4c3a-a248-4b3116f912c4",
   "metadata": {},
   "source": [
    "*Proof:*\n",
    "\\begin{align*}\n",
    "\\left|\\frac{\\partial f}{\\partial \\mathbf{v}}(\\mathbf{x}_0) \\right|&= |\\langle \\nabla f(\\mathbf{x}_0), \\mathbf{v}\\rangle|\\\\\n",
    "&\\le \\|\\nabla f(\\mathbf{x}_0) \\| \\|\\mathbf{v}\\|\\\\\n",
    "&= \\|\\nabla f(\\mathbf{x}_0) \\|\\\\\n",
    "&= \\left\\langle \\nabla f(\\mathbf{x}_0) , \\nabla f(\\mathbf{x}_0) \\right\\rangle \\frac{1}{\\|\\nabla f(\\mathbf{x}_0) \\|}\\\\\n",
    "&= \\left|\\left\\langle \\nabla f(\\mathbf{x}_0) , \\mathbf{v}^* \\right\\rangle  \\right|\n",
    "& =\\left|\\frac{\\partial f}{\\partial \\mathbf{v}^*}(\\mathbf{x}_0) \\right|\n",
    "\\end{align*}\n",
    "and so the absolute value is the largest. But $\\frac{\\partial f}{\\partial \\mathbf{v}}(\\mathbf{x}_0) <0$ and so it must be the most negative. $\\square$"
   ]
  },
  {
   "cell_type": "markdown",
   "id": "41425b9b-88e5-4af8-8648-8da8d7891a0e",
   "metadata": {},
   "source": [
    "## Gradient Descent Algorithm\n",
    "\n",
    "The above lemma gives us a nice way to numerically find values $\\mathbf{x}$ such that the convex cost function decreases.\n",
    "\n",
    "### **Gradient Descent:**\n",
    "**Input** A continuously differentiable function $f:\\mathbb{R}^d\\to \\mathbb{R}$; an initial value $\\mathbf{x}^0\\in \\mathbb{R}^d$; some sequence ${\\alpha}_t>0$ of step-sizes for the algorithm, some number of iterations $T = 1,2,\\dotsm$\n",
    "\n",
    "**For** each $t = 0,1,\\dotsm, T-1$ find a new point\n",
    "$$\n",
    "\\mathbf{x}^{t+1}  = \\mathbf{x}^t - \\alpha_t \\nabla f(\\mathbf{x}^t).\n",
    "$$\n",
    "\n",
    "We can write this in code below. Here ```grad_f``` is the gradient of a function $f$."
   ]
  },
  {
   "cell_type": "code",
   "execution_count": 1,
   "id": "37ea1069-ad1f-4ced-bf4e-1e8649feb215",
   "metadata": {},
   "outputs": [],
   "source": [
    "import matplotlib.pyplot as plt\n",
    "import numpy as np"
   ]
  },
  {
   "cell_type": "code",
   "execution_count": 6,
   "id": "7e84ae10-1965-45c3-9f32-3efecf7bdd92",
   "metadata": {},
   "outputs": [],
   "source": [
    "def desc_update(grad_f, x, alpha):\n",
    "    return x - alpha*grad_f(x)\n",
    "\n",
    "\n",
    "def gd_attempt1(f, grad_f, x0, alpha=1e-3, niters=int(1e6)):\n",
    "    xk = x0\n",
    "    for _ in range(niters):\n",
    "        xk = desc_update(grad_f, xk, alpha)\n",
    "    return xk, f(xk)\n"
   ]
  },
  {
   "cell_type": "markdown",
   "id": "9ac77c59-061e-4f76-b12b-37e9bf41384d",
   "metadata": {},
   "source": [
    "Let's do an example for a very nice (convex) function $f$:\n",
    "$$\n",
    "f(x) = (x-1)^2 + 10\n",
    "$$\n",
    "which is clearly minized at $x =1 $."
   ]
  },
  {
   "cell_type": "code",
   "execution_count": 5,
   "id": "1f0fc0a3-afa7-48e3-90bd-9414696c7da9",
   "metadata": {},
   "outputs": [
    {
     "data": {
      "image/png": "[encoded data removed]",
      "text/plain": [
       "<Figure size 432x288 with 1 Axes>"
      ]
     },
     "metadata": {
      "needs_background": "light"
     },
     "output_type": "display_data"
    }
   ],
   "source": [
    "def f(x):\n",
    "    return (x-1)**2 + 10\n",
    "xgrid = np.linspace(-5,5,100)\n",
    "plt.plot(xgrid, f(xgrid))\n",
    "plt.show()\n",
    "def grad_f(x):\n",
    "    return 2*(x-1)"
   ]
  },
  {
   "cell_type": "markdown",
   "id": "addfa1c5-c65f-4094-a72b-93392cdfa928",
   "metadata": {},
   "source": [
    "Let's see how gradient descent does?"
   ]
  },
  {
   "cell_type": "code",
   "execution_count": 10,
   "id": "9baa71e0-014c-43ae-aed4-899becbc182a",
   "metadata": {},
   "outputs": [
    {
     "data": {
      "text/plain": [
       "(0.9999999999999722, 10.0)"
      ]
     },
     "execution_count": 10,
     "metadata": {},
     "output_type": "execute_result"
    }
   ],
   "source": [
    "gd_attempt1(f, grad_f, 0)"
   ]
  },
  {
   "cell_type": "markdown",
   "id": "1ebbe5ed-031e-43cd-a916-a3257478c47f",
   "metadata": {},
   "source": [
    "The algorithm spit out an $x$ value that is $\\approx 2.8\\times 10^{-14}$ away from the correct answer $1$ and gives us the correct minimal value of the cost function $f$."
   ]
  },
  {
   "cell_type": "markdown",
   "id": "2d8d0fa3-dc40-46e9-aac7-de551ed4ba26",
   "metadata": {},
   "source": [
    "What happens when the function $f$ is not convex? For example\n",
    "$$\n",
    "f(x) = 4(x-1)^2(x+1)^2 - 2(x-1).\n",
    "$$\n",
    "Why is this not convex? We'll we could plot it and *see* that it is not convex, by that is not a proof. Let's do this exactly:\n",
    "First since $(x-1)(x+1) = (x^2-1)$ we can simplify this as\n",
    "$$\n",
    "f(x) = 4(x^2-1)^2 - 2(x-1) = 4x^4 - 8x^2 + 4 - 2x + 2 = 4x^4 - 8x^2 -2x+6.\n",
    "$$\n",
    "The Hessian (second derivative) of $f$ is\n",
    "$$\n",
    "f''(x) = 48 x^2 - 16\n",
    "$$ which is not always non-negative. Hence the second order condition for convexity tells us that $f$ is not convex."
   ]
  },
  {
   "cell_type": "code",
   "execution_count": 15,
   "id": "a64ba5c1-c161-4541-86b5-114c979c7348",
   "metadata": {},
   "outputs": [
    {
     "data": {
      "image/png": "[encoded data removed]",
      "text/plain": [
       "<Figure size 576x360 with 1 Axes>"
      ]
     },
     "metadata": {
      "needs_background": "light"
     },
     "output_type": "display_data"
    }
   ],
   "source": [
    "def f(x):\n",
    "    return 4 * (x-1)**2 * (x+1)**2 - 2*(x-1)\n",
    "def grad_f(x):\n",
    "    return 8 * (x-1) * (x+1)**2 + 8 * (x-1)**2 * (x+1) - 2\n",
    "xgrid = np.linspace(-2,2,100)\n",
    "plt.figure(figsize = (8,5))\n",
    "plt.plot(xgrid, f(xgrid), label='f')\n",
    "plt.plot(xgrid, grad_f(xgrid), label='grad_f')\n",
    "plt.ylim((-10,10))\n",
    "plt.legend()\n",
    "plt.show()"
   ]
  },
  {
   "cell_type": "markdown",
   "id": "3dd07b1c-03f0-495d-b94b-231aeb1765f9",
   "metadata": {},
   "source": [
    "Let's see what gradient descent spits out as the numerical answer for the local minimums?"
   ]
  },
  {
   "cell_type": "code",
   "execution_count": 16,
   "id": "b2af2ff2-44d5-4562-b325-180e2468c639",
   "metadata": {},
   "outputs": [
    {
     "data": {
      "text/plain": [
       "(1.057453770738375, -0.0590145651028224)"
      ]
     },
     "execution_count": 16,
     "metadata": {},
     "output_type": "execute_result"
    }
   ],
   "source": [
    "gd_attempt1(f,grad_f,0)"
   ]
  },
  {
   "cell_type": "code",
   "execution_count": 17,
   "id": "f141f7dd-f0c9-44c5-868c-42bbc06ed88a",
   "metadata": {},
   "outputs": [
    {
     "data": {
      "text/plain": [
       "(-0.9304029265558538, 3.933005966859003)"
      ]
     },
     "execution_count": 17,
     "metadata": {},
     "output_type": "execute_result"
    }
   ],
   "source": [
    "gd_attempt1(f,grad_f,-2)"
   ]
  },
  {
   "cell_type": "markdown",
   "id": "a01d8d9a-f1fc-40b6-8657-4e1651f91a5c",
   "metadata": {},
   "source": [
    "We see that there are two different answers! One reason for this is that the funciton is not convex, and there are two local minimums. "
   ]
  },
  {
   "cell_type": "markdown",
   "id": "e3bcb1b9-b970-4930-b7a1-3d98b85d0c1d",
   "metadata": {},
   "source": [
    "## Convergence Analysis\n",
    "\n",
    "### Smooth case\n",
    "**Def:** Let $f:\\mathbb{R}^d\\to \\mathbb{R}$ be a twice continuously differentiable function. We say that $f$ is $L$-smooth if \n",
    "$$\n",
    "-LI_{d\\times d} \\preceq H_f(\\mathbf{x})\\preceq L I_{d\\times d}\\qquad\\forall\\mathbf{x}\\in \\mathbb{R}^d.\n",
    "$$\n",
    "In $d =1$ case this just means that $f''(x)\\in[-L,L]$ for all $x$.\n",
    "\n",
    "The following claim is just a consequence of the definition of $A\\preceq B$.\n",
    "\n",
    "**Claim:** Suppose that $A, B$ are $d\\times d$ matrices. Then $A\\succeq B$ if and only if for all $\\mathbf{x}\\in \\mathbb{R}^d$\n",
    "$$\n",
    "\\langle \\mathbf{x}, A\\mathbf{x}\\rangle \\le \\langle \\mathbf{x}, B\\mathbf{x}\\rangle.\n",
    "$$\n",
    "In particular, for $L$-smooth functions $f$ if and only if it is twice-continuously differentiable and \n",
    "$$\n",
    "-L \\|\\mathbf{p}\\|^2 \\le \\langle \\mathbf{p}, H_f(\\mathbf{z}) \\mathbf{p}\\rangle \\le L \\|\\mathbf{p}\\|^2\\qquad\\forall\\mathbf{x},\\mathbf{p}\n",
    "$$"
   ]
  },
  {
   "cell_type": "markdown",
   "id": "3730c869-2372-4995-a567-3cb06e078ced",
   "metadata": {},
   "source": [
    "**Lemma (Quadratic bound for smooth functions):** Let $f:\\mathbb{R}^d\\to \\mathbb{R}$ be twice continuously differentialbe. Then $f$ is $L$-smooth if and only if for all $\\mathbf{x},\\mathbf{y}\\in \\mathbb{R}^d$ it holds that\n",
    "$$\n",
    "\\left| f(\\mathbf{y}) - \\Big( f(\\mathbf{x}) + \\nabla f(\\mathbf{x})^T (\\mathbf{y}-\\mathbf{x})\\Big) \\right| \\le \\frac{L}{2} \\|\\mathbf{y}-\\mathbf{x}\\|^2.\n",
    "$$"
   ]
  },
  {
   "cell_type": "markdown",
   "id": "77a77b46-3a72-438c-a86c-302ff25f1069",
   "metadata": {},
   "source": [
    "*Proof:*\n",
    "We use Taylor's theorem. \n",
    "For any $\\mathbf{x}$, $\\mathbf{p}$ and $\\alpha>0$ we can find some $\\xi_\\alpha$ such that\n",
    "$$\n",
    "f(\\mathbf{x}+ \\alpha \\mathbf{p}) = f(\\mathbf{x}) + \\alpha \\nabla f(\\mathbf{x})^T \\mathbf{p} + \\frac{1}{2} \\alpha^2 \\langle \\mathbf{p}, H_f(\\mathbf{x}+\\xi_\\alpha \\alpha \\mathbf{p} ) \\mathbf{p}\\rangle.\n",
    "$$\n",
    "\n",
    "If we set $\\mathbf{p} = \\mathbf{y}-\\mathbf{x}$ and $\\alpha = 1$ then this becomes:\n",
    "$$\n",
    "f(\\mathbf{y}) -  f(\\mathbf{x}) -  \\nabla f(\\mathbf{x})^T (\\mathbf{y}-\\mathbf{x}) = \\frac{1}{2}  \\langle \\mathbf{y}-\\mathbf{x}, H_f(\\mathbf{x}+\\xi_1  \\mathbf{p} ) (\\mathbf{y}-\\mathbf{x})\\rangle.\n",
    "$$\n",
    "And so if we take absolute values on both sides it becomes: \n",
    "$$\n",
    "\\left| f(\\mathbf{y}) - \\Big( f(\\mathbf{x}) + \\nabla f(\\mathbf{x})^T (\\mathbf{y}-\\mathbf{x})\\Big) \\right| \\le \\left|\\frac{1}{2}  \\langle \\mathbf{y}-\\mathbf{x}, H_f(\\mathbf{x}+\\xi_1  \\mathbf{p} ) (\\mathbf{y}-\\mathbf{x})\\rangle\\right|.\n",
    "$$\n",
    "If $H$ is $L$-smooth, then $$ -L \\|\\mathbf{p}\\|^2 \\le \\langle \\mathbf{p}, H_f(\\mathbf{z}) \\mathbf{p}\\rangle \\le L \\|\\mathbf{p}\\|^2$$\n",
    "by the claim above, which means\n",
    "$$\n",
    "\\left| f(\\mathbf{y}) - \\Big( f(\\mathbf{x}) + \\nabla f(\\mathbf{x})^T (\\mathbf{y}-\\mathbf{x})\\Big) \\right| \\le \\left|\\frac{1}{2}  \\langle \\mathbf{y}-\\mathbf{x}, H_f(\\mathbf{x}+\\xi_1  \\mathbf{p} ) (\\mathbf{y}-\\mathbf{x})\\rangle\\right|\\le \\frac{L}{2}\\|\\mathbf{y}-\\mathbf{x}\\|^2\n",
    "$$ as desired.\n",
    "\n",
    "To show the reverse implication, we rearrange the equation\n",
    "$$\n",
    "f(\\mathbf{x}+ \\alpha \\mathbf{p}) = f(\\mathbf{x}) + \\alpha \\nabla f(\\mathbf{x})^T \\mathbf{p} + \\frac{1}{2} \\alpha^2 \\langle \\mathbf{p}, H_f(\\mathbf{x}+\\xi_\\alpha \\alpha \\mathbf{p} ) \\mathbf{p}\\rangle\n",
    "$$\n",
    "to get\n",
    "$$\n",
    "\\left|f(\\mathbf{x}+ \\alpha \\mathbf{p}) -\\Big( f(\\mathbf{x}) + \\alpha \\nabla f(\\mathbf{x})^T \\mathbf{p}\\Big)\\right| = \\frac{1}{2} \\alpha^2 \\left|\\langle \\mathbf{p}, H_f(\\mathbf{x}+\\xi_\\alpha \\alpha \\mathbf{p} ) \\mathbf{p}\\rangle\\right|.\n",
    "$$ But the left-hand side is bounded by\n",
    "$$\n",
    "\\left|f(\\mathbf{x}+ \\alpha \\mathbf{p}) -\\Big( f(\\mathbf{x}) + \\alpha \\nabla f(\\mathbf{x})^T \\mathbf{p}\\Big)\\right|  \\le \\frac{L}{2} \\|\\alpha\\mathbf{p}\\|^2 = \\frac{L}{2} \\alpha^2 \\|\\mathbf{p}\\|^2.\n",
    "$$\n",
    "But then \n",
    "$$\n",
    "\\left|\\frac{1}{2} \\alpha^2 \\langle \\mathbf{p}, H_f(\\mathbf{x}+\\xi_\\alpha \\alpha \\mathbf{p} ) \\mathbf{p}\\rangle \\right| \\le \\frac{L}{2}\\alpha^2 \\mathbf{p}.\n",
    "$$ Now cancel the $\\alpha^2$'s on both sides and take the limit as $\\alpha\\to0$ and use the above claim. $\\square$."
   ]
  },
  {
   "cell_type": "markdown",
   "id": "8adf748f-bfa4-4216-b364-4011def8453e",
   "metadata": {},
   "source": [
    "**Theorem (Convergence of Gradient Descent; smooth case)**\n",
    "Suppose that $f:\\mathbb{R}^d\\to \\mathbb{R}$ is $L$-smooth and bounded below. That is there is some $\\overline{f}> -\\infty$ such that $f(\\mathbf{x})\\ge \\overline{f}$ for all $\\mathbf{x}$. We assume that $\\overline{f} = \\inf_{\\mathbf{x}} f(\\mathbf{x})$.\n",
    "\n",
    "Then the Gradient Descent algorithm above with $\\alpha_t = \\alpha = \\frac{1}{L}$ for all $t = 0,1,\\dotsm$ and any starting point $\\mathbf{x}^0$ produces a sequence $\\mathbf{x}^t$ that satisfies\n",
    "$$\n",
    "f(\\mathbf{x}^{t+1})\\le f(\\mathbf{x}^t)\\qquad \\forall t\n",
    "$$\n",
    "and\n",
    "$$\n",
    "\\lim_{t\\to\\infty} \\left\\| \\nabla f(\\mathbf{x}^t)\\right\\| = 0.\n",
    "$$\n",
    "\n",
    "Moreover after $S$ many steps of the alorithm, there is some $t \\in\\{ 0,1,\\dotsm, S\\}$ such that \n",
    "$$\n",
    "\\|\\nabla f(\\mathbf{x}^t) \\| \\le \\sqrt{\\frac{\\displaystyle 2L \\big( f(\\mathbf{x}) - \\overline{f}\\big) }{S}}.\n",
    "$$\n",
    "\n",
    "*Comments* The above Theorem does not tell us that we will converge to the global minimum of the cost function, but only that our cost function always decreases. In fact, we need not converge to a local minimum at all!"
   ]
  },
  {
   "cell_type": "markdown",
   "id": "40f634d6-03de-47df-9fdd-bc6529d7633e",
   "metadata": {},
   "source": [
    "We need the following lemma to prove the above theorem.\n",
    "\n",
    "**Lemma (Descent guarantee, smooth case):**\n",
    "Suppose that $f:\\mathbb{R}^d\\to \\mathbb{R}$ is $L$-smooth. Then for any $\\mathbf{x}\\in \\mathbb{R}^d$,\n",
    "$$\n",
    "f\\bigg( \\mathbf{x}-\\frac{1}{L} \\nabla f(\\mathbf{x})\\bigg) \\le f(\\mathbf{x}) - \\frac{1}{2L} \\|\\nabla f(\\mathbf{x})\\|^2.\n",
    "$$\n",
    "*Proof of Lemma:*\n",
    "\n",
    "Let $\\mathbf{p} = -\\nabla f(\\mathbf{x})$. Then by the quadratic bound for smooth functions lemma above we have for all $\\alpha>0$\n",
    "\\begin{align*}\n",
    "f(\\mathbf{x}+\\alpha \\mathbf{p}) &\\le f(\\mathbf{x}) + \\nabla f(\\mathbf{x})^T (\\alpha\\mathbf{p})  + \\frac{L}{2} \\alpha^2 \\|\\mathbf{p}\\|^2\\\\\n",
    "&= f(\\mathbf{x}) - \\alpha \\|\\nabla f(\\mathbf{x})\\|^2 + \\alpha^2 \\frac{L}{2} \\|\\nabla f(\\mathbf{x})\\|^2\\\\\n",
    "&= f(\\mathbf{x}) + \\Big(-\\alpha + \\alpha^2 \\frac{L}{2} \\Big) \\|\\nabla f(\\mathbf{x})\\|^2.\n",
    "\\end{align*}\n",
    "Just set $\\alpha = \\frac{1}{L}$. $\\square$"
   ]
  },
  {
   "cell_type": "markdown",
   "id": "197df91f-dcdf-402c-8c80-482cfdf167d8",
   "metadata": {},
   "source": [
    "*Proof of Theorem:*\n",
    "We use the above lemma. First note that by the above lemma that\n",
    "$$\n",
    "f(\\mathbf{x}^{t}) = f\\bigg(\\mathbf{x}^{t-1} - \\frac{1}{L} \\nabla f(\\mathbf{x}^{t-1})\\bigg) \\le f(\\mathbf{x}^{t-1}) - \\frac{1}{2L }\\|f(\\mathbf{x}^{t-1})\\|^2.\n",
    "$$\n",
    "This gives the first inequality. \n",
    "\n",
    "But we can get a similar bound for $f(\\mathbf{x}^{t-1})$ as well:\n",
    "$$\n",
    "f(\\mathbf{x}^{t-1}) = f\\bigg(\\mathbf{x}^{t-2} - \\frac{1}{L} \\nabla f(\\mathbf{x}^{t-2})\\bigg) \\le f(\\mathbf{x}^{t-2}) - \\frac{1}{2L }\\|f(\\mathbf{x}^{t-2})\\|^2. \n",
    "$$\n",
    "Continuing this we get for any $t = 0,1,2,\\dotsm$\n",
    "$$\n",
    "f(\\mathbf{x}^t) \\le f(\\mathbf{x}^0)- \\frac{1}{2L} \\sum_{s=0}^{t-1} \\|\\nabla f(\\mathbf{x}^s)\\|^2.\n",
    "$$\n",
    "But now rearranging gives \n",
    "$$\n",
    "\\sum_{s = 0}^t \\|\\nabla f(\\mathbf{x}^s)\\|^2 \\le 2L \\left(f(\\mathbf{x}^0) - f(\\mathbf{x}^{t+1}) \\right) \\le 2L (f(\\mathbf{x}^0) - \\overline{f}).\n",
    "$$\n",
    "The right-hand side does not depend on $t$ and the left-hand side increases with $t$ and so we can take a limit as $t\\to\\infty$ to get\n",
    "$$\n",
    "\\sum_{s = 0}^\\infty \\|\\nabla f(\\mathbf{x}^s)\\|^2  \\le  2L (f(\\mathbf{x}^0) - \\overline{f})<\\infty.\n",
    "$$\n",
    "But since this is summable, we must have that $\\|\\nabla f(\\mathbf{x}^s)\\|^2 \\to0$ as $s\\to\\infty$. This gives the second statement.\n",
    "\n",
    "The last bound is as follows: Since\n",
    "$f(\\mathbf{x}^t) \\ge \\overline{f}$, we get\n",
    "$$\n",
    "\\frac{1}{2L} \\sum_{s=0}^{t-1} \\|\\nabla f(\\mathbf{x}^s)\\|^2 \\le f(\\mathbf{x}^0) - \\overline{f}\n",
    "$$\n",
    "and by rearranging\n",
    "$$\n",
    " t \\min_{s = 0,1\\dots, t-1} \\|\\nabla f(\\mathbf{x}^s)\\|^2 \\le \\sum_{s=0}^{t-1} \\|\\nabla f(\\mathbf{x}^s)\\|^2 \\le 2L \\Big(f(\\mathbf{x}^0)-\\underline{f}\\Big).\n",
    "$$\n",
    "This means\n",
    "$$\n",
    "\\min_{s< S} \\|\\nabla f(\\mathbf{x}^s)\\| \\le \\sqrt{\\frac{\\displaystyle 2L \\big( f(\\mathbf{x}) - \\overline{f}\\big) }{S}}\n",
    "$$ which is the last statement. $\\square$\n",
    "\n",
    "### Strongly convex case:\n",
    "\n"
   ]
  },
  {
   "cell_type": "markdown",
   "id": "28f3279b-0db6-4d1e-a802-75978d7a7a7d",
   "metadata": {},
   "source": [
    "**Lemma** Suppose that $f:\\mathbb{R}^d\\to\\mathbb{R}$ is twice continuously differentiable and $\\rho$-strongly convex for some $\\rho>0$. Let $\\mathbf{x}^*$ be the unique global minimizer then\n",
    "$$\n",
    "f(\\mathbf{x}) - f(\\mathbf{x}^*) \\le \\frac{\\|\\nabla f(\\mathbf{x})\\|^2}{2\\rho}.\n",
    "$$"
   ]
  },
  {
   "cell_type": "markdown",
   "id": "fa0f3c87-902e-4b32-a936-9ad833e60ee7",
   "metadata": {
    "scrolled": true
   },
   "source": [
    "*Proof:* Recall that by the quadratic bound for strongly convex functions:\n",
    "\\begin{align*}\n",
    "f(\\mathbf{x}^*) &\\ge f(\\mathbf{x})+ \\nabla f(\\mathbf{x})^T (\\mathbf{x}^* - \\mathbf{x}) + \\frac{\\rho}{2} \\|\\mathbf{x}^*-\\mathbf{x}\\|^2\\\\\n",
    "&= f(\\mathbf{x})+ \\nabla f(\\mathbf{x})^T \\mathbf{w} + \\frac{1}{2} \\langle \\mathbf{w}, \\rho I_{d\\times d} \\mathbf{w}\\rangle \n",
    "\\end{align*}\n",
    "where we set $\\mathbf{w} = \\mathbf{x}^*-\\mathbf{x}$.\n",
    "\n",
    "But we can forget that $\\mathbf{w}$ was a particular value above, and instead fix $\\mathbf{x}$ adn view the right-most term as just a function of $\\mathbf{w}$:\n",
    "$$\n",
    "g(\\mathbf{w}):= f(\\mathbf{x})+ \\nabla f(\\mathbf{x})^T \\mathbf{w} + \\frac{1}{2} \\langle \\mathbf{w}, \\rho I_{d\\times d} \\mathbf{w}\\rangle = r + \\mathbf{q}^T \\mathbf{w} + \\frac{1}{2}\\langle \\mathbf{w}, P\\mathbf{w}\\rangle\n",
    "$$ and we know that this is minimized at $\\mathbf{w}$ solving:\n",
    "$$\n",
    "P\\mathbf{w} +\\mathbf{q} = \\mathbf{0}.\n",
    "$$ Here we used the fact that $P = \\rho I_{d\\times d}$ is symmetric.\n",
    "But then\n",
    "$$\n",
    "\\mathbf{w}^* =- P^{-1}  \\mathbf{q} = -\\frac{1}{\\rho} \\nabla f(\\mathbf{x})\n",
    "$$ is the unique global minimum of our new function and so:\n",
    "\\begin{align*}\n",
    "f(\\mathbf{x}^*) &\\ge g(\\mathbf{x}^*-\\mathbf{x}) \\ge g(\\mathbf{w}^*) \\\\\n",
    " &= f(\\mathbf{x}) + \\nabla f(\\mathbf{x})^T \\left(-\\frac{1}{\\rho} \\nabla f(\\mathbf{x})  \\right) + \\frac{1}{2}\\Bigg\\langle -\\frac{1}{\\rho} \\nabla f(\\mathbf{x}), \\rho I_{d\\times d}\\left( -\\frac{1}{\\rho}  \\nabla f(\\mathbf{x}) \\right)\\Bigg\\rangle \\\\\n",
    " &= f(\\mathbf{x}) - \\frac{1}{2\\rho} \\|\\nabla f(\\mathbf{x})\\|^2\n",
    "\\end{align*}\n",
    "and rearranging gives the desired statement. $\\square$\n"
   ]
  },
  {
   "cell_type": "markdown",
   "id": "f56f3668-adc0-440d-b9be-3c37a43e51c8",
   "metadata": {},
   "source": [
    "**Theorem (Convergence of gradient descent: strongly convex case):**\n",
    "Suppose that $f:\\mathbb{R}^d\\to\\mathbb{R}$ is $\\rho$-strongly convex and $L$-smooth with unique global minimum $\\mathbf{x}^*$. Then gradient descent with $\\alpha = \\frac{1}{L}$ starting from any point $\\mathbf{x}^0$ produces a sequence $\\mathbf{x}^t$ such that\n",
    "$$\n",
    "\\lim_{t\\to\\infty} f(\\mathbf{x}^t)  = f(\\mathbf{x}^*).\n",
    "$$\n",
    "Moreover, this can be quantified:\n",
    "$$\n",
    "f(\\mathbf{x}^t) - f(\\mathbf{x}^*) \\le \\left(1-\\frac{\\rho}{L} \\right)^t \\left( f(\\mathbf{x}^0)- f(\\mathbf{x}^*)\\right).\n",
    "$$"
   ]
  },
  {
   "cell_type": "markdown",
   "id": "fbf4ff49-5ea5-45a4-bdd4-417cec485f60",
   "metadata": {},
   "source": [
    "*Proof:*\n",
    "We have like the smooth case above\n",
    "\\begin{align*}\n",
    "f(\\mathbf{x}^{t+1})  &= f\\Big( \\mathbf{x}^t - \\frac{1}{L} \\nabla f(\\mathbf{x}^t) \\Big) \\le f(\\mathbf{x}^t) - \\frac{1}{2L} \\|\\nabla f(\\mathbf{x}^t)\\|^2\\\\\n",
    "&\\le f(\\mathbf{x}^t) - \\frac{\\rho}{L}\\Big(f(\\mathbf{x}^t) - f(\\mathbf{x^*})\\Big).\n",
    "\\end{align*} The last inequality follows from the preceeding lemma.\n",
    "\n",
    "Then\n",
    "\\begin{align*}\n",
    "f(\\mathbf{x}^{t+1})- f(\\mathbf{x}^*) &\\le f(\\mathbf{x}^t) - \\frac{\\rho}{L}\\Big(f(\\mathbf{x}^t) - f(\\mathbf{x^*})\\Big) - f(\\mathbf{x}^*)\\\\\n",
    "&= \\left( 1- \\frac{\\rho}{L}\\right) f(\\mathbf{x}^{t})- \\left( 1- \\frac{\\rho}{L}\\right)f(\\mathbf{x}^*)\\\\\n",
    "&=\\left( 1- \\frac{\\rho}{L}\\right)\\Big(f(\\mathbf{x}^{t})- f(\\mathbf{x}^*)\\Big).\n",
    "\\end{align*}\n",
    "Continuing again\n",
    "$$\n",
    "f(\\mathbf{x}^{t+1})- f(\\mathbf{x}^*) \\le \\left( 1- \\frac{\\rho}{L}\\right)\\Big(f(\\mathbf{x}^{t})- f(\\mathbf{x}^*)\\Big) \\le \\left( 1- \\frac{\\rho}{L}\\right)^2\\Big(f(\\mathbf{x}^{t-1})- f(\\mathbf{x}^*)\\Big)\n",
    "$$\n",
    "and so on\n",
    "$$\n",
    "f(\\mathbf{x}^{t})- f(\\mathbf{x}^*)\\le \\left( 1- \\frac{\\rho}{L}\\right)^t\\Big(f(\\mathbf{x}^{0})- f(\\mathbf{x}^*)\\Big).\n",
    "$$This gives the second claim. This proves the first one as well by taking $t\\to\\infty$."
   ]
  },
  {
   "cell_type": "code",
   "execution_count": null,
   "id": "8a3a4933-35d4-4cbc-a10b-b4fcf4b7a04b",
   "metadata": {},
   "outputs": [],
   "source": []
  }
 ],
 "metadata": {
  "kernelspec": {
   "display_name": "Python 3 (ipykernel)",
   "language": "python",
   "name": "python3"
  },
  "language_info": {
   "codemirror_mode": {
    "name": "ipython",
    "version": 3
   },
   "file_extension": ".py",
   "mimetype": "text/x-python",
   "name": "python",
   "nbconvert_exporter": "python",
   "pygments_lexer": "ipython3",
   "version": "3.9.7"
  }
 },
 "nbformat": 4,
 "nbformat_minor": 5
}
