{
 "cells": [
  {
   "cell_type": "code",
   "execution_count": 1,
   "id": "cc2be4e5",
   "metadata": {},
   "outputs": [],
   "source": [
    "import tensorflow as tf\n",
    "from tensorflow import keras\n",
    "import matplotlib.pyplot as plt\n",
    "import numpy as np"
   ]
  },
  {
   "cell_type": "code",
   "execution_count": 2,
   "id": "ab4c5f20",
   "metadata": {},
   "outputs": [
    {
     "data": {
      "text/plain": [
       "60000"
      ]
     },
     "execution_count": 2,
     "metadata": {},
     "output_type": "execute_result"
    }
   ],
   "source": [
    "mnist = keras.datasets.mnist\n",
    "(imgs, labels), (test_imgs, test_labels) = mnist.load_data()\n",
    "len(imgs)"
   ]
  },
  {
   "cell_type": "markdown",
   "id": "9832743a",
   "metadata": {},
   "source": [
    "The dataset ``mnist`` is a large collection of handwritten digits as an image together with their actual digit as a number. Below is the first image and the first label."
   ]
  },
  {
   "cell_type": "code",
   "execution_count": 3,
   "id": "7d622772",
   "metadata": {},
   "outputs": [
    {
     "data": {
      "image/png": "[encoded data removed]",
      "text/plain": [
       "<Figure size 432x288 with 1 Axes>"
      ]
     },
     "metadata": {
      "needs_background": "light"
     },
     "output_type": "display_data"
    },
    {
     "name": "stdout",
     "output_type": "stream",
     "text": [
      "5\n"
     ]
    }
   ],
   "source": [
    "plt.figure()\n",
    "plt.imshow(imgs[0])\n",
    "plt.show()\n",
    "print(labels[0])"
   ]
  },
  {
   "cell_type": "markdown",
   "id": "a64082f4",
   "metadata": {},
   "source": [
    "Let's just look at the subcollection of elements that are either $0$ or $1$."
   ]
  },
  {
   "cell_type": "code",
   "execution_count": 4,
   "id": "d71421a9",
   "metadata": {},
   "outputs": [],
   "source": [
    "i01 = [i for i in range(len(labels)) if (labels[i]==0) or (labels[i]==1)]\n",
    "imgs01 = imgs[i01]\n",
    "labels01 = labels[i01]\n"
   ]
  },
  {
   "cell_type": "code",
   "execution_count": 5,
   "id": "14c3073e",
   "metadata": {},
   "outputs": [
    {
     "data": {
      "image/png": "[encoded data removed]",
      "text/plain": [
       "<Figure size 432x288 with 1 Axes>"
      ]
     },
     "metadata": {
      "needs_background": "light"
     },
     "output_type": "display_data"
    },
    {
     "name": "stdout",
     "output_type": "stream",
     "text": [
      "0\n"
     ]
    }
   ],
   "source": [
    "plt.figure()\n",
    "plt.imshow(imgs01[0])\n",
    "plt.show()\n",
    "print(labels01[0])"
   ]
  },
  {
   "cell_type": "markdown",
   "id": "75759332",
   "metadata": {},
   "source": [
    "We will now treat each of these images (which is a $28\\times 28$ array) as a vector in $\\mathbb R^{d}$ where $d = 28^2 = 784$. There are $n = 12665$ many images in our dataset. "
   ]
  },
  {
   "cell_type": "code",
   "execution_count": 6,
   "id": "167a112e",
   "metadata": {},
   "outputs": [
    {
     "name": "stdout",
     "output_type": "stream",
     "text": [
      "12665\n"
     ]
    }
   ],
   "source": [
    "X = np.vstack([imgs01[i].flatten() for i in range(len(labels01))])\n",
    "y = labels01\n",
    "print(len(labels01))"
   ]
  },
  {
   "cell_type": "markdown",
   "id": "b5319245",
   "metadata": {},
   "source": [
    "Our goal is to find a function $\\hat{f}:\\mathbb{R}^d\\to \\mathbb{R}$ such that for our examples $\\{(\\mathbf{x}_i,y_i): i = 1,\\dotsm,n\\}$ such that $\\hat{f}(\\mathbf{x}_i)\\approx y_i$ for all $i$.\n",
    "\n",
    "This is a problem of binary classification (we are only restricting to $0$ and $1$s) there is a natural way that we can approach this **supervised learning** problem. (It is **supervised** because we know the correct labels)."
   ]
  },
  {
   "cell_type": "markdown",
   "id": "9bbad95b",
   "metadata": {},
   "source": [
    "This will seem similar to the linear regression problem:\n",
    "\n",
    "1) We define a class of functions $\\widehat{\\mathcal{F}}$ (a collection of classifiers)\n",
    "\n",
    "2) We define a loss function $\\ell(\\hat{f},(\\mathbf{x},y))$ which quantifies how close $\\hat{f}(\\mathbf{x})$ is to $y$.\n",
    "\n",
    "We then want to find a function $\\hat{f}$ which minimizes the average loss:\n",
    "$$\n",
    "\\frac{1}{n} \\sum_{i=1}^n \\ell\\left(\\hat{f},(\\mathbf{x}_i,y_i)\\right).\n",
    "$$"
   ]
  },
  {
   "cell_type": "markdown",
   "id": "84a75aa2",
   "metadata": {},
   "source": [
    "One example is *logistic regression* where we consider the classifiers of the form\n",
    "$$\n",
    "\\hat{f}(\\mathbf{x}) = \\sigma\\left(\\mathbf{x}^T\\boldsymbol{\\theta}\\right) \\qquad \\sigma(t) = \\frac{1}{1+e^{-t}}\n",
    "$$\n",
    "where $\\boldsymbol{\\theta}\\in\\mathbb R^d$ is a parameter.\n",
    "\n",
    "Note that $\\sigma(5) \\approx 6.7\\times 10^{-3}$ and $\\sigma(-5) \\approx 0.993$.\n",
    "\n",
    "We then use the cross-entropy loss (common with logistic regression)\n",
    "$$\n",
    "\\ell\\left(\\hat{f},(\\mathbf{x},y)\\right) = -y\\log(\\sigma(\\mathbf{x}^T\\boldsymbol{\\theta})) - (1-y) \\log(1-\\sigma(\\mathbf{x}^T\\boldsymbol{\\theta})).\n",
    "$$\n",
    "\n",
    "We then want to minimize\n",
    "$$\n",
    "\\min_{\\boldsymbol{\\theta}\\in\\mathbb R^d} - \\sum_{i=1}^n y_i\\log\\left(\\sigma\\left(\\mathbf{x}^T\\boldsymbol{\\theta}\\right)\\right) + (1-y) \\log\\left(\\sigma\\left(1-\\mathbf{x}^T\\boldsymbol{\\theta}\\right)\\right).\n",
    "$$"
   ]
  }
 ],
 "metadata": {
  "kernelspec": {
   "display_name": "Python 3 (ipykernel)",
   "language": "python",
   "name": "python3"
  },
  "language_info": {
   "codemirror_mode": {
    "name": "ipython",
    "version": 3
   },
   "file_extension": ".py",
   "mimetype": "text/x-python",
   "name": "python",
   "nbconvert_exporter": "python",
   "pygments_lexer": "ipython3",
   "version": "3.10.4"
  }
 },
 "nbformat": 4,
 "nbformat_minor": 5
}
